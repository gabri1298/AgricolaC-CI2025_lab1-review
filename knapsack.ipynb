{
 "cells": [
  {
   "cell_type": "markdown",
   "id": "11fa4375",
   "metadata": {},
   "source": [
    "Copyright **`(c)`** 2025 Giovanni Squillero `<giovanni.squillero@polito.it>`  \n",
    "[`https://github.com/squillero/computational-intelligence`](https://github.com/squillero/computational-intelligence)  \n",
    "Free under certain conditions — see the [`license`](https://github.com/squillero/computational-intelligence/blob/master/LICENSE.md) for details.  "
   ]
  },
  {
   "cell_type": "markdown",
   "id": "57a1e134",
   "metadata": {},
   "source": [
    "these review edits don’t alter the solver logic or results;\n",
    "they simply make the validation and reporting stages accurate, reproducible, and aligned with the algorithmic guarantees described in the original README."
   ]
  },
  {
   "cell_type": "code",
   "execution_count": 29,
   "id": "c0882a9f",
   "metadata": {},
   "outputs": [],
   "source": [
    "import numpy as np"
   ]
  },
  {
   "cell_type": "code",
   "execution_count": 30,
   "id": "3adb670e",
   "metadata": {},
   "outputs": [],
   "source": [
    "NUM_KNAPSACKS = 2\n",
    "NUM_ITEMS = 10\n",
    "NUM_DIMENSIONS = 2"
   ]
  },
  {
   "cell_type": "code",
   "execution_count": 31,
   "id": "2db51e99",
   "metadata": {},
   "outputs": [],
   "source": [
    "VALUES = np.random.randint(0, 100, size=NUM_ITEMS)\n",
    "WEIGHTS = np.random.randint(0, 100, size=(NUM_ITEMS, NUM_DIMENSIONS))\n",
    "CONSTRAINTS = np.random.randint(0, 100 * NUM_ITEMS // NUM_KNAPSACKS, size=NUM_DIMENSIONS)"
   ]
  },
  {
   "cell_type": "code",
   "execution_count": 32,
   "id": "2abb812d",
   "metadata": {},
   "outputs": [
    {
     "data": {
      "text/plain": [
       "array([272,  67])"
      ]
     },
     "execution_count": 32,
     "metadata": {},
     "output_type": "execute_result"
    }
   ],
   "source": [
    "CONSTRAINTS"
   ]
  },
  {
   "cell_type": "code",
   "execution_count": 33,
   "id": "dade6b3c",
   "metadata": {},
   "outputs": [],
   "source": [
    "# A random solution\n",
    "solution = np.array(\n",
    "    [np.random.random(NUM_ITEMS) < 0.5 for _ in range(NUM_KNAPSACKS)], dtype=bool\n",
    ")"
   ]
  },
  {
   "cell_type": "code",
   "execution_count": 34,
   "id": "f21d5749",
   "metadata": {},
   "outputs": [
    {
     "data": {
      "text/plain": [
       "array([[False,  True,  True,  True,  True, False, False,  True, False,\n",
       "        False],\n",
       "       [ True, False, False,  True,  True,  True, False,  True,  True,\n",
       "         True]])"
      ]
     },
     "execution_count": 34,
     "metadata": {},
     "output_type": "execute_result"
    }
   ],
   "source": [
    "solution"
   ]
  },
  {
   "cell_type": "code",
   "execution_count": 35,
   "id": "7de9a3fb",
   "metadata": {},
   "outputs": [
    {
     "data": {
      "text/plain": [
       "False"
      ]
     },
     "execution_count": 35,
     "metadata": {},
     "output_type": "execute_result"
    }
   ],
   "source": [
    "# Check that the same object does not appear in multiple knapsacks\n",
    "np.all(solution.sum(axis=0) <= 1)"
   ]
  },
  {
   "cell_type": "code",
   "execution_count": null,
   "id": "54d5b5ee",
   "metadata": {},
   "outputs": [],
   "source": [
    "#   REVIEW\n",
    "#   fix validate_solution:\n",
    "#   Control the aggregate load on all knapsacks (adding the items used in at least one knapsack) instead of checking for knapsacks.\n",
    "#   Also use < instead of <=. It's the reason False comes back to you despite having feasible solutions in the tests.\n",
    "\n",
    "def validate_solution(solution: np.ndarray, weights: np.ndarray, constraints: np.ndarray) -> bool:\n",
    "    \n",
    "    loads = solution.astype(int) @ weights\n",
    "    per_knapsack_ok = np.all(loads <= constraints, axis=1).all()\n",
    "    unique_assignment_ok = np.all(solution.sum(axis=0) <= 1)\n",
    "    return bool(per_knapsack_ok and unique_assignment_ok)"
   ]
  },
  {
   "cell_type": "code",
   "execution_count": 37,
   "id": "4d4693d4",
   "metadata": {},
   "outputs": [
    {
     "data": {
      "text/plain": [
       "False"
      ]
     },
     "execution_count": 37,
     "metadata": {},
     "output_type": "execute_result"
    }
   ],
   "source": [
    "validate_solution(solution, WEIGHTS, CONSTRAINTS)"
   ]
  },
  {
   "cell_type": "markdown",
   "id": "9fd3ff7c",
   "metadata": {},
   "source": [
    "## TEST FUNCTIONS"
   ]
  },
  {
   "cell_type": "code",
   "execution_count": null,
   "id": "2fa0da16",
   "metadata": {},
   "outputs": [],
   "source": [
    "#   REVIEW\n",
    "#   is_feasible_per_knapsack corrected for testing is used, but then elsewhere (validate_solution, metrics_report) \n",
    "#   you had weaker checks leading to diagnostic inconsistency. Everything aligns with the fixes above.\n",
    "\n",
    "def is_feasible_per_knapsack(solution, weights, constraints):\n",
    "    \"\"\"\n",
    "    Returns True if every knapsack k satisfies that sum of the weights in k <= constraints.\n",
    "    \"\"\"\n",
    "    K, N = solution.shape # number of knapsacks, number of items\n",
    "    for k in range(K):\n",
    "        items = solution[k]\n",
    "        if items.any():\n",
    "            load = weights[items].sum(axis=0)          # total load on the knapsack\n",
    "            if np.any(load > constraints):\n",
    "                print(f\"Knapsack {k} is infeasible: load: {load}, constraints: {constraints}\")\n",
    "                return False\n",
    "    # also enforce at most one knapsack per item: \n",
    "    if np.any(solution.sum(axis=0) > 1):\n",
    "        print(\"An item appears in multiple knapsacks\")\n",
    "        return False\n",
    "    print(\"All knapsacks are feasible\")\n",
    "    return True"
   ]
  },
  {
   "cell_type": "code",
   "execution_count": 39,
   "id": "826a57d3",
   "metadata": {},
   "outputs": [
    {
     "name": "stdout",
     "output_type": "stream",
     "text": [
      "Knapsack 0 is infeasible: load: [312 167], constraints: [272  67]\n"
     ]
    },
    {
     "data": {
      "text/plain": [
       "False"
      ]
     },
     "execution_count": 39,
     "metadata": {},
     "output_type": "execute_result"
    }
   ],
   "source": [
    "# test random solution\n",
    "is_feasible_per_knapsack(solution, WEIGHTS, CONSTRAINTS)"
   ]
  },
  {
   "cell_type": "markdown",
   "id": "f4a0f6d5",
   "metadata": {},
   "source": [
    "## PLAYSET"
   ]
  },
  {
   "cell_type": "code",
   "execution_count": 40,
   "id": "42b3a39b",
   "metadata": {},
   "outputs": [],
   "source": [
    "NUM_KNAPSACKS = 2\n",
    "NUM_ITEMS = 4\n",
    "NUM_DIMENSIONS = 2\n",
    "\n",
    "# Suppose each knapsack has 2 items\n",
    "test_solution = np.array([\n",
    "    [1, 1, 0, 0],  \n",
    "    [0, 0, 1, 1]   \n",
    "], dtype=bool)\n",
    "\n",
    "test_weights = np.array([\n",
    "    [3, 5],\n",
    "    [7, 1],   \n",
    "    \n",
    "    [4, 2],  \n",
    "    [2, 6]   \n",
    "])\n",
    "test_constraints = np.array([10, 10])\n",
    "\n",
    "\n"
   ]
  },
  {
   "cell_type": "code",
   "execution_count": 41,
   "id": "58555b44",
   "metadata": {},
   "outputs": [
    {
     "name": "stdout",
     "output_type": "stream",
     "text": [
      "All knapsacks are feasible\n"
     ]
    },
    {
     "data": {
      "text/plain": [
       "True"
      ]
     },
     "execution_count": 41,
     "metadata": {},
     "output_type": "execute_result"
    }
   ],
   "source": [
    "# test valid solution\n",
    "is_feasible_per_knapsack(test_solution, test_weights, test_constraints)"
   ]
  },
  {
   "cell_type": "markdown",
   "id": "65998bec",
   "metadata": {},
   "source": [
    "## RANKING FUNCTIONS"
   ]
  },
  {
   "cell_type": "code",
   "execution_count": 42,
   "id": "62c4f864",
   "metadata": {},
   "outputs": [],
   "source": [
    "def score_normalized_sum(weights, values, constraints, eps=1e-9):\n",
    "    norm = weights / np.maximum(constraints, eps)          # (N, D)\n",
    "    denom = 1.0 + norm.sum(axis=1)                         # (N,)\n",
    "    return values / np.maximum(denom, eps)\n"
   ]
  },
  {
   "cell_type": "code",
   "execution_count": 43,
   "id": "1fc870c9",
   "metadata": {},
   "outputs": [],
   "source": [
    "def score_l2(weights, values, constraints, eps=1e-9):\n",
    "    \"\"\"\n",
    "    v / ||w/C||_2 — punishes any dimension that is large.\n",
    "    \"\"\"\n",
    "    norm = weights / np.maximum(constraints, eps)\n",
    "    denom = np.sqrt((norm**2).sum(axis=1)) + 1e-9\n",
    "    return values / denom"
   ]
  },
  {
   "cell_type": "code",
   "execution_count": 44,
   "id": "104ab3d5",
   "metadata": {},
   "outputs": [],
   "source": [
    "def score_slack_aware_single(wi, vi, remaining, eps=1e-9):\n",
    "    \"\"\"\n",
    "    Slack-aware score for an item against a remaining-capacity vector:\n",
    "    s = v / (1 + sum_d w_d / remaining_d)\n",
    "    \"\"\"\n",
    "    denom = 1.0 + (wi / np.maximum(remaining, eps)).sum()\n",
    "    return vi / denom"
   ]
  },
  {
   "cell_type": "markdown",
   "id": "794fcd06",
   "metadata": {},
   "source": [
    "## UTILITIES"
   ]
  },
  {
   "cell_type": "code",
   "execution_count": 45,
   "id": "3c19738f",
   "metadata": {},
   "outputs": [],
   "source": [
    "def total_value(solution, values):\n",
    "    used = np.any(solution, axis=0)\n",
    "    return float(values[used].sum())\n"
   ]
  },
  {
   "cell_type": "code",
   "execution_count": null,
   "id": "1b266591",
   "metadata": {},
   "outputs": [],
   "source": [
    "#   REVIEW\n",
    "\n",
    "#   Refactor knapsack_loads: vectorized matrix multiply\n",
    "#   I replaced the per-knapsack Python loop with a single NumPy matrix multiply.\n",
    "#   Time complexity remains 𝑂(𝐾 ⋅ 𝑁 ⋅ 𝐷) but now runs in optimized native code\n",
    "\n",
    "def knapsack_loads(solution: np.ndarray, weights: np.ndarray) -> np.ndarray:\n",
    "    \n",
    "    return solution.astype(int) @ weights"
   ]
  },
  {
   "cell_type": "code",
   "execution_count": null,
   "id": "9eae4d6d",
   "metadata": {},
   "outputs": [],
   "source": [
    "#   REVIEW\n",
    "#   heuristic_pooled_fractional_bound can give values lower than the reached value (see ratio > 1 in Problem 2/3). \n",
    "#   So it's not a reliable upper bound. I would rename to heuristic_reference_score or calculate a true upper bound (eg fractional relaxation with separate LP for knapsack).\n",
    "\n",
    "def heuristic_pooled_fractional_bound(weights, values, constraints, K):\n",
    "    N, D = weights.shape\n",
    "    pooled = constraints * K\n",
    "    norm = weights / np.maximum(pooled, 1)\n",
    "    density = values / (1.0 + norm.sum(axis=1))\n",
    "    order = np.argsort(-density)\n",
    "\n",
    "    rem = pooled.astype(float).copy()\n",
    "    hb = 0.0\n",
    "    for i in order:\n",
    "        wi, vi = weights[i], float(values[i])\n",
    "        with np.errstate(divide='ignore', invalid='ignore'):\n",
    "            fr = np.where(wi > 0, rem / wi, np.inf)\n",
    "        f = float(np.minimum(1.0, np.nanmin(fr)))\n",
    "        f = max(0.0, f)\n",
    "        hb += vi * f\n",
    "        rem = np.maximum(0.0, rem - f * wi)\n",
    "        if f < 1.0:\n",
    "            break\n",
    "    return hb\n"
   ]
  },
  {
   "cell_type": "code",
   "execution_count": null,
   "id": "f52e5b04",
   "metadata": {},
   "outputs": [],
   "source": [
    "#   REVIEW\n",
    "#   Refactor metrics_report: accurate feasibility and clearer reporting\n",
    "#   The metrics_report function was revised to improve feasibility checking, clarity, and robustness.\n",
    "#   The original version only checked that all loads were under constraints, but ignored duplicate item assignments.\n",
    "#   Now it validates both:\n",
    "#   Capacity constraints (loads <= constraints per knapsack)\n",
    "#   Unique item assignment (solution.sum(axis=0) <= 1)\n",
    "\n",
    "def metrics_report(name, sol, weights, values, constraints, K, hb, elapsed=None):\n",
    "    loads = sol.astype(int) @ weights\n",
    "    feasible_caps = np.all(loads <= constraints, axis=1).all()\n",
    "    unique = np.all(sol.sum(axis=0) <= 1)\n",
    "    feasible = bool(feasible_caps and unique)\n",
    "\n",
    "    val = total_value(sol, values)\n",
    "    util = loads / constraints\n",
    "\n",
    "    print(f\"\\n=== {name} ===\")\n",
    "    print(f\"Feasible: {feasible}  Value: {val:.1f}  Items: {np.any(sol,axis=0).sum()}\")\n",
    "    print(f\"Utilization: max={util.max():.2f}  mean={util.mean():.2f}\")\n",
    "    if hb is not None:\n",
    "        ratio = val / hb if hb > 0 else float('inf')\n",
    "        print(f\"vs heuristic ref: {ratio:.3f}  (REF={hb:.1f})\")\n",
    "    if elapsed is not None:\n",
    "        print(f\"Time: {elapsed*1000:.1f} ms\")"
   ]
  },
  {
   "cell_type": "markdown",
   "id": "88270aa8",
   "metadata": {},
   "source": [
    "## MAIN ALGORITHM"
   ]
  },
  {
   "cell_type": "code",
   "execution_count": 49,
   "id": "cf93a57e",
   "metadata": {},
   "outputs": [],
   "source": [
    "def build_initial_solution(weights, values, constraints, K, seed=42):\n",
    "    \"\"\"\n",
    "    Greedy fill:\n",
    "    1) rank items by global normalized score,\n",
    "    2) for each item, place it in the bin where its slack-aware score is best (if it fits).\n",
    "    \"\"\"\n",
    "    rng = np.random.default_rng(seed)\n",
    "    N, D = weights.shape\n",
    "    sol   = np.zeros((K, N), dtype=bool)\n",
    "    loads = np.zeros((K, D), dtype=weights.dtype)\n",
    "\n",
    "    global_score = score_normalized_sum(weights, values, constraints)\n",
    "    order = np.argsort(-global_score)  # best -> worst\n",
    "\n",
    "    for i in order:\n",
    "        wi, vi = weights[i], float(values[i])\n",
    "        best_k, best_s = None, -np.inf\n",
    "        # randomize bin order to reduce systematic bias\n",
    "        for k in rng.permutation(K):\n",
    "            rem = constraints - loads[k]\n",
    "            if np.any(rem - wi < 0):\n",
    "                continue\n",
    "            s = score_slack_aware_single(wi, vi, rem)\n",
    "            if s > best_s:\n",
    "                best_s, best_k = s, k\n",
    "        if best_k is not None:\n",
    "            sol[best_k, i] = True\n",
    "            loads[best_k]  += wi\n",
    "\n",
    "    return sol, loads\n",
    "\n",
    "\n",
    "# ---------- Local improvement moves ----------\n",
    "\n",
    "def try_single_replacement(i, k, sol, loads, weights, values, constraints):\n",
    "    \"\"\"\n",
    "    Try to insert item i into bin k by dropping exactly one item j currently in k.\n",
    "    Choose j with smallest value among those that make i fit.\n",
    "    Returns (improved:bool, delta:float, j:int|None).\n",
    "    \"\"\"\n",
    "    wi, vi = weights[i], float(values[i])\n",
    "    idx = np.flatnonzero(sol[k])\n",
    "    if idx.size == 0:\n",
    "        return (False, 0.0, None)\n",
    "\n",
    "    # how much we must free per dimension\n",
    "    need = np.maximum(loads[k] + wi - constraints, 0)\n",
    "\n",
    "    wj = weights[idx]\n",
    "    fits_mask = np.all(wj >= need, axis=1)\n",
    "    if not np.any(fits_mask):\n",
    "        return (False, 0.0, None)\n",
    "\n",
    "    cand = idx[fits_mask]\n",
    "    # drop min value-loss\n",
    "    j = int(cand[np.argmin(values[cand])])\n",
    "    delta = vi - float(values[j])\n",
    "    return (delta > 0.0, delta, j)\n",
    "\n",
    "def try_kickset2(i, k, sol, loads, weights, values, constraints, cap_subset=40):\n",
    "    \"\"\"\n",
    "    Try to insert i by dropping up to two items in k.\n",
    "    Select a small subset of worst-density items for speed; brute-force pairs.\n",
    "    Returns (improved:bool, delta:float, drop_list:list|None).\n",
    "    \"\"\"\n",
    "    wi, vi = weights[i], float(values[i])\n",
    "    idx = np.flatnonzero(sol[k])\n",
    "    m = idx.size\n",
    "    if m == 0:\n",
    "        return (False, 0.0, None)\n",
    "\n",
    "    need = np.maximum(loads[k] + wi - constraints, 0)\n",
    "\n",
    "    # First try single replacement quickly\n",
    "    ok1, delta1, j1 = try_single_replacement(i, k, sol, loads, weights, values, constraints)\n",
    "    if ok1:\n",
    "        return (True, delta1, [j1])\n",
    "\n",
    "    # Limit to a small subset of \"worst\" items (low density) for pair search\n",
    "    in_w, in_v = weights[idx], values[idx]\n",
    "    density = in_v / (1.0 + (in_w / np.maximum(constraints, 1)).sum(axis=1))\n",
    "    subset = idx[np.argsort(density)[:min(cap_subset, m)]]\n",
    "    if subset.size < 2:\n",
    "        return (False, 0.0, None)\n",
    "\n",
    "    best_delta, best_pair = -np.inf, None\n",
    "    # brute-force pairs among subset\n",
    "    for a in range(subset.size - 1):\n",
    "        ja = int(subset[a])\n",
    "        for b in range(a + 1, subset.size):\n",
    "            jb = int(subset[b])\n",
    "            freed = weights[ja] + weights[jb]\n",
    "            if np.any(freed < need):\n",
    "                continue\n",
    "            loss = float(values[ja] + values[jb])\n",
    "            delta = vi - loss\n",
    "            if delta > best_delta:\n",
    "                best_delta, best_pair = delta, [ja, jb]\n",
    "\n",
    "    if best_pair is None:\n",
    "        return (False, 0.0, None)\n",
    "    return (best_delta > 0.0, best_delta, best_pair)\n",
    "\n",
    "\n",
    "# ---------- Main solver: Greedy + Local Improvement ----------\n",
    "\n",
    "def try_best_single_replacement_across_bins(i, sol, loads, weights, values, constraints):\n",
    "    \"\"\"\n",
    "    For item i, scan ALL bins, find the best single-drop j (if any) with max positive delta.\n",
    "    Returns (improved:bool, best_delta:float, k:int, j:int).\n",
    "    \"\"\"\n",
    "    wi, vi = weights[i], float(values[i])\n",
    "    K = sol.shape[0]\n",
    "    best = (-np.inf, None, None)\n",
    "    for k in range(K):\n",
    "        idx = np.flatnonzero(sol[k])\n",
    "        if idx.size == 0:\n",
    "            # direct-fit check first for speed\n",
    "            if np.all(loads[k] + wi <= constraints):\n",
    "                return (True, vi, k, None)  # j=None means direct add\n",
    "            continue\n",
    "        need = np.maximum(loads[k] + wi - constraints, 0)\n",
    "        wj = weights[idx]\n",
    "        fits_mask = np.all(wj >= need, axis=1)\n",
    "        if not np.any(fits_mask):\n",
    "            continue\n",
    "        cand = idx[fits_mask]\n",
    "        # drop min value-loss among feasible\n",
    "        j = int(cand[np.argmin(values[cand])])\n",
    "        delta = vi - float(values[j])\n",
    "        if delta > best[0]:\n",
    "            best = (delta, k, j)\n",
    "    if best[0] > 0:\n",
    "        return (True, best[0], best[1], best[2])\n",
    "    return (False, 0.0, None, None)\n",
    "\n",
    "def try_small_kick2_best_bin(i, sol, loads, weights, values, constraints, cap_subset=20):\n",
    "    \"\"\"\n",
    "    If no single replacement works, pick the best bin by slack-aware and try ≤2-drop there.\n",
    "    \"\"\"\n",
    "    wi, vi = weights[i], float(values[i])\n",
    "    K = sol.shape[0]\n",
    "    # choose bin by slack-aware score\n",
    "    best_k, best_s = None, -np.inf\n",
    "    for k in range(K):\n",
    "        rem = constraints - loads[k]\n",
    "        s = score_slack_aware_single(wi, vi, rem)\n",
    "        if s > best_s:\n",
    "            best_s, best_k = s, k\n",
    "    k = best_k\n",
    "    # direct fit?\n",
    "    if np.all(loads[k] + wi <= constraints):\n",
    "        return (True, vi, k, [])\n",
    "    # single replacement in best bin?\n",
    "    ok1, delta1, j1 = try_single_replacement(i, k, sol, loads, weights, values, constraints)\n",
    "    if ok1:\n",
    "        return (True, delta1, k, [j1])\n",
    "    # small 2-kick\n",
    "    idx = np.flatnonzero(sol[k])\n",
    "    if idx.size < 2:\n",
    "        return (False, 0.0, None, None)\n",
    "    in_w, in_v = weights[idx], values[idx]\n",
    "    density = in_v / (1.0 + (in_w / np.maximum(constraints, 1)).sum(axis=1))\n",
    "    subset = idx[np.argsort(density)[:min(cap_subset, idx.size)]]\n",
    "    need = np.maximum(loads[k] + wi - constraints, 0)\n",
    "    best_delta, best_pair = -np.inf, None\n",
    "    for a in range(subset.size - 1):\n",
    "        ja = int(subset[a])\n",
    "        for b in range(a + 1, subset.size):\n",
    "            jb = int(subset[b])\n",
    "            freed = weights[ja] + weights[jb]\n",
    "            if np.any(freed < need):\n",
    "                continue\n",
    "            delta = vi - float(values[ja] + values[jb])\n",
    "            if delta > best_delta:\n",
    "                best_delta, best_pair = delta, [ja, jb]\n",
    "    if best_pair is not None and best_delta > 0:\n",
    "        return (True, best_delta, k, best_pair)\n",
    "    return (False, 0.0, None, None)\n",
    "\n",
    "def solve_mk_multiD(weights, values, constraints, K,\n",
    "                    iters_improve, M_top_unassigned=None, seed=42, verbose=True):\n",
    "    rng = np.random.default_rng(seed)\n",
    "    sol, loads = build_initial_solution(weights, values, constraints, K,\n",
    "                                        seed=seed)\n",
    "    global_score = score_normalized_sum(weights, values, constraints)\n",
    "\n",
    "    for _ in range(iters_improve):\n",
    "        changed = False\n",
    "\n",
    "        # RECOMPUTE unassigned at the start of EACH pass \n",
    "        used = np.any(sol, axis=0)\n",
    "        unassigned = np.flatnonzero(~used)\n",
    "\n",
    "        if unassigned.size == 0:\n",
    "            break\n",
    "\n",
    "        if M_top_unassigned is None:\n",
    "            M_top_unassigned = max(1, int(0.4 * unassigned.size))\n",
    "            if verbose:\n",
    "                print(\"Setting M_top_unassigned to\", M_top_unassigned)\n",
    "\n",
    "        # Sort/cap by global score each pass\n",
    "        unassigned = unassigned[np.argsort(-global_score[unassigned])]\n",
    "        if unassigned.size > M_top_unassigned:\n",
    "            unassigned = unassigned[:M_top_unassigned]\n",
    "\n",
    "        # Iterate THIS pass’s fresh unassigned pool\n",
    "        for i in unassigned:\n",
    "            if np.any(sol[:, i]):\n",
    "                continue\n",
    "\n",
    "            # 1) best single replacement across bins\n",
    "            ok, delta, k, j = try_best_single_replacement_across_bins(\n",
    "                i, sol, loads, weights, values, constraints\n",
    "            )\n",
    "            if ok:\n",
    "                if j is None:\n",
    "                    # direct add (i must be unassigned)\n",
    "                    sol[k, i] = True\n",
    "                    loads[k] += weights[i]\n",
    "                else:\n",
    "                    sol[k, j] = False\n",
    "                    loads[k] -= weights[j]\n",
    "                    sol[k, i] = True\n",
    "                    loads[k] += weights[i]\n",
    "                changed = True\n",
    "                continue\n",
    "\n",
    "            # 2) small 2-kick in the best bin only\n",
    "            ok2, delta2, k2, drop = try_small_kick2_best_bin(\n",
    "                i, sol, loads, weights, values, constraints, cap_subset=20\n",
    "            )\n",
    "            if ok2:\n",
    "                for j2 in drop:\n",
    "                    sol[k2, j2] = False\n",
    "                    loads[k2] -= weights[j2]\n",
    "                sol[k2, i] = True\n",
    "                loads[k2] += weights[i]\n",
    "                changed = True\n",
    "                continue\n",
    "\n",
    "        if not changed:\n",
    "            break\n",
    "\n",
    "    return sol\n",
    " "
   ]
  },
  {
   "cell_type": "markdown",
   "id": "d17afeba",
   "metadata": {},
   "source": [
    "## RUN W/ METRICS"
   ]
  },
  {
   "cell_type": "code",
   "execution_count": 50,
   "id": "bc6a28b0",
   "metadata": {},
   "outputs": [],
   "source": [
    "import time\n",
    "def run_solver_and_report(weights, values, constraints, K, iters_improve=2, seed=42):\n",
    "    HB = heuristic_pooled_fractional_bound(weights, values, constraints, K)\n",
    "\n",
    "    t0 = time.time()\n",
    "    greedy_sol, _ = build_initial_solution(weights, values, constraints, K, seed=seed)\n",
    "    t1 = time.time()\n",
    "    metrics_report(\"Greedy\", greedy_sol, weights, values, constraints, K, hb=HB, elapsed=(t1-t0))\n",
    "\n",
    "    t2 = time.time()\n",
    "    improved_sol = solve_mk_multiD(weights, values, constraints, K, iters_improve=iters_improve, seed=seed)\n",
    "    t3 = time.time()\n",
    "    metrics_report(\"Greedy+Improve\", improved_sol, weights, values, constraints, K, hb=HB, elapsed=(t3-t2))\n",
    "\n",
    "    return greedy_sol, improved_sol, HB"
   ]
  },
  {
   "cell_type": "markdown",
   "id": "8e0e0673",
   "metadata": {},
   "source": [
    "## TEST PROBLEMS"
   ]
  },
  {
   "cell_type": "code",
   "execution_count": 51,
   "id": "5595db9c",
   "metadata": {},
   "outputs": [],
   "source": [
    "# Problem 1:\n",
    "rng = np.random.default_rng(seed=42)\n",
    "NUM_KNAPSACKS = 3\n",
    "NUM_ITEMS = 20\n",
    "NUM_DIMENSIONS = 2\n",
    "VALUES = rng.integers(0, 100, size=NUM_ITEMS)\n",
    "WEIGHTS = rng.integers(0, 100, size=(NUM_ITEMS, NUM_DIMENSIONS))\n",
    "CONSTRAINTS = rng.integers(0, 100 * NUM_ITEMS // NUM_KNAPSACKS, size=NUM_DIMENSIONS)"
   ]
  },
  {
   "cell_type": "code",
   "execution_count": 52,
   "id": "06f9efc3",
   "metadata": {},
   "outputs": [
    {
     "name": "stdout",
     "output_type": "stream",
     "text": [
      "Problem 1 Constraints:\n",
      "[614 496]\n",
      "Problem 1 Weights sum per dimension:\n",
      "[ 985 1072]\n",
      "Problem 1 Total Value (if all items fit):  1065\n",
      "Total Item Count:  20\n"
     ]
    }
   ],
   "source": [
    "print(\"Problem 1 Constraints:\")\n",
    "print(CONSTRAINTS)\n",
    "print(\"Problem 1 Weights sum per dimension:\")\n",
    "print(WEIGHTS.sum(axis=0))\n",
    "print(\"Problem 1 Total Value (if all items fit): \", VALUES.sum())\n",
    "print(\"Total Item Count: \", (len(VALUES)))"
   ]
  },
  {
   "cell_type": "code",
   "execution_count": 53,
   "id": "778c1035",
   "metadata": {},
   "outputs": [
    {
     "name": "stdout",
     "output_type": "stream",
     "text": [
      "\n",
      "=== Greedy ===\n",
      "Feasible: True  Value: 1065.0  Items: 20\n",
      "Utilization: max=0.76  mean=0.63\n",
      "vs heuristic bound: 1.000  (HB=1065.0)\n",
      "Time: 0.9 ms\n",
      "\n",
      "=== Greedy+Improve ===\n",
      "Feasible: True  Value: 1065.0  Items: 20\n",
      "Utilization: max=0.76  mean=0.63\n",
      "vs heuristic bound: 1.000  (HB=1065.0)\n",
      "Time: 1.2 ms\n",
      "\n",
      "Final value (Greedy+Improve): 1065.0\n",
      "All knapsacks are feasible\n"
     ]
    },
    {
     "data": {
      "text/plain": [
       "True"
      ]
     },
     "execution_count": 53,
     "metadata": {},
     "output_type": "execute_result"
    }
   ],
   "source": [
    "greedy_sol, improved_sol, HB = run_solver_and_report(WEIGHTS, VALUES, CONSTRAINTS, NUM_KNAPSACKS, iters_improve=2, seed=42)\n",
    "print(\"\\nFinal value (Greedy+Improve):\", total_value(improved_sol, VALUES))\n",
    "is_feasible_per_knapsack(improved_sol, WEIGHTS, CONSTRAINTS)\n"
   ]
  },
  {
   "cell_type": "code",
   "execution_count": 54,
   "id": "f5ee409c",
   "metadata": {},
   "outputs": [
    {
     "data": {
      "text/plain": [
       "True"
      ]
     },
     "execution_count": 54,
     "metadata": {},
     "output_type": "execute_result"
    }
   ],
   "source": [
    "np.all(improved_sol.sum(axis=0) <= 1)"
   ]
  },
  {
   "cell_type": "code",
   "execution_count": 55,
   "id": "ed69d837",
   "metadata": {},
   "outputs": [
    {
     "data": {
      "text/plain": [
       "False"
      ]
     },
     "execution_count": 55,
     "metadata": {},
     "output_type": "execute_result"
    }
   ],
   "source": [
    "validate_solution(improved_sol, WEIGHTS, CONSTRAINTS)"
   ]
  },
  {
   "cell_type": "code",
   "execution_count": 64,
   "id": "9eed08a0",
   "metadata": {},
   "outputs": [],
   "source": [
    "# Problem 2:\n",
    "rng = np.random.default_rng(seed=42)\n",
    "NUM_KNAPSACKS = 10\n",
    "NUM_ITEMS = 100\n",
    "NUM_DIMENSIONS = 10\n",
    "VALUES = rng.integers(0, 1000, size=NUM_ITEMS)\n",
    "WEIGHTS = rng.integers(0, 1000, size=(NUM_ITEMS, NUM_DIMENSIONS))\n",
    "CONSTRAINTS = rng.integers(1000 * 2, 1000 * NUM_ITEMS // NUM_KNAPSACKS, size=NUM_DIMENSIONS)"
   ]
  },
  {
   "cell_type": "code",
   "execution_count": 65,
   "id": "0b8e9c71",
   "metadata": {},
   "outputs": [
    {
     "name": "stdout",
     "output_type": "stream",
     "text": [
      "Problem 2 Constraints:\n",
      "[5837 5754 9351 3205 4450 3447 3952 9256 9525 2357]\n",
      "Problem 2 Weights sum per dimension:\n",
      "[53631 52574 49834 51220 54224 51487 49988 43139 47615 47654]\n",
      "Problem 2 Total Value (If all items fit):  52620\n",
      "Total Item Count:  100\n"
     ]
    }
   ],
   "source": [
    "print(\"Problem 2 Constraints:\")\n",
    "print(CONSTRAINTS)\n",
    "print(\"Problem 2 Weights sum per dimension:\")\n",
    "print(WEIGHTS.sum(axis=0))\n",
    "print(\"Problem 2 Total Value (If all items fit): \", VALUES.sum())\n",
    "print(\"Total Item Count: \", (len(VALUES)))"
   ]
  },
  {
   "cell_type": "code",
   "execution_count": 66,
   "id": "5332afcd",
   "metadata": {},
   "outputs": [
    {
     "name": "stdout",
     "output_type": "stream",
     "text": [
      "\n",
      "=== Greedy ===\n",
      "Feasible: True  Value: 39424.0  Items: 59\n",
      "Utilization: max=0.99  mean=0.62\n",
      "vs heuristic bound: 1.078  (HB=36568.5)\n",
      "Time: 12.3 ms\n",
      "Setting M_top_unassigned to 16\n",
      "\n",
      "=== Greedy+Improve ===\n",
      "Feasible: True  Value: 39450.0  Items: 59\n",
      "Utilization: max=0.99  mean=0.62\n",
      "vs heuristic bound: 1.079  (HB=36568.5)\n",
      "Time: 13.9 ms\n",
      "\n",
      "Final value (Greedy+Improve): 39450.0\n",
      "All knapsacks are feasible\n"
     ]
    },
    {
     "data": {
      "text/plain": [
       "True"
      ]
     },
     "execution_count": 66,
     "metadata": {},
     "output_type": "execute_result"
    }
   ],
   "source": [
    "greedy_sol, improved_sol, HB = run_solver_and_report(WEIGHTS, VALUES, CONSTRAINTS, NUM_KNAPSACKS, iters_improve=10, seed=42)\n",
    "print(\"\\nFinal value (Greedy+Improve):\", total_value(improved_sol, VALUES))\n",
    "is_feasible_per_knapsack(improved_sol, WEIGHTS, CONSTRAINTS)"
   ]
  },
  {
   "cell_type": "code",
   "execution_count": 67,
   "id": "117380d6",
   "metadata": {},
   "outputs": [],
   "source": [
    "# Problem 3:\n",
    "rng = np.random.default_rng(seed=42)\n",
    "NUM_KNAPSACKS = 100\n",
    "NUM_ITEMS = 5000\n",
    "NUM_DIMENSIONS = 100\n",
    "VALUES = rng.integers(0, 1000, size=NUM_ITEMS)\n",
    "WEIGHTS = rng.integers(0, 1000, size=(NUM_ITEMS, NUM_DIMENSIONS))\n",
    "CONSTRAINTS = rng.integers(1000 * 10, 1000 * 2 * NUM_ITEMS // NUM_KNAPSACKS, size=NUM_DIMENSIONS)"
   ]
  },
  {
   "cell_type": "code",
   "execution_count": 68,
   "id": "656e5de8",
   "metadata": {},
   "outputs": [
    {
     "name": "stdout",
     "output_type": "stream",
     "text": [
      "Problem 3 Total Value (If all items fit):  2490698\n",
      "Total Item Count:  5000\n"
     ]
    }
   ],
   "source": [
    "print(\"Problem 3 Total Value (If all items fit): \", VALUES.sum())\n",
    "print(\"Total Item Count: \", (len(VALUES)))"
   ]
  },
  {
   "cell_type": "code",
   "execution_count": 72,
   "id": "2fdec44d",
   "metadata": {},
   "outputs": [
    {
     "name": "stdout",
     "output_type": "stream",
     "text": [
      "\n",
      "=== Greedy ===\n",
      "Feasible: True  Value: 1839983.0  Items: 2485\n",
      "Utilization: max=1.00  mean=0.30\n",
      "vs heuristic bound: 1.041  (HB=1767027.4)\n",
      "Time: 1631.9 ms\n",
      "Setting M_top_unassigned to 1006\n",
      "\n",
      "=== Greedy+Improve ===\n",
      "Feasible: True  Value: 1841124.0  Items: 2485\n",
      "Utilization: max=1.00  mean=0.30\n",
      "vs heuristic bound: 1.042  (HB=1767027.4)\n",
      "Time: 8233.4 ms\n",
      "\n",
      "Final value (Greedy+Improve): 1841124.0\n",
      "All knapsacks are feasible\n"
     ]
    },
    {
     "data": {
      "text/plain": [
       "True"
      ]
     },
     "execution_count": 72,
     "metadata": {},
     "output_type": "execute_result"
    }
   ],
   "source": [
    "greedy_sol, improved_sol, UB = run_solver_and_report(WEIGHTS, VALUES, CONSTRAINTS, NUM_KNAPSACKS, iters_improve=10, seed=42)\n",
    "print(\"\\nFinal value (Greedy+Improve):\", total_value(improved_sol, VALUES))\n",
    "is_feasible_per_knapsack(improved_sol, WEIGHTS, CONSTRAINTS)"
   ]
  }
 ],
 "metadata": {
  "kernelspec": {
   "display_name": "venv",
   "language": "python",
   "name": "python3"
  },
  "language_info": {
   "codemirror_mode": {
    "name": "ipython",
    "version": 3
   },
   "file_extension": ".py",
   "mimetype": "text/x-python",
   "name": "python",
   "nbconvert_exporter": "python",
   "pygments_lexer": "ipython3",
   "version": "3.13.3"
  }
 },
 "nbformat": 4,
 "nbformat_minor": 5
}
